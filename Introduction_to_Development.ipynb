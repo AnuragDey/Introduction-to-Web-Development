{
  "nbformat": 4,
  "nbformat_minor": 0,
  "metadata": {
    "colab": {
      "provenance": []
    },
    "kernelspec": {
      "name": "python3",
      "display_name": "Python 3"
    },
    "language_info": {
      "name": "python"
    }
  },
  "cells": [
    {
      "cell_type": "markdown",
      "source": [
        "# Introduction to Web Development\n",
        "\n",
        "\n",
        "\n",
        "\n",
        "\n",
        "\n",
        "\n"
      ],
      "metadata": {
        "id": "WXNVmp0UCsJl"
      }
    },
    {
      "cell_type": "markdown",
      "source": [
        "1. Explain the main components of client-server architecture and their functions.\n",
        "   - Client: End user's device that interacts with the server.\n",
        "   - Server: Centralized computer providing resources and services to clients.\n",
        "   - Request/Response: Clients send requests, servers respond with data.\n",
        "   - Statelessness: Each request from a client to a server is independent.\n",
        "2. Discuss the various career paths available after completing a web development course.\n",
        "   - Front-End Developer: Focuses on user interface and visual aspects.\n",
        "   - Back-End Developer: Manages server-side logic, databases, and application integration.\n",
        "   - Full-Stack Developer: Skilled in both front-end and back-end development.\n",
        "   - Web Designer: Specializes in design and layout of websites.\n",
        "   - Web Administrator: Manages web servers and ensures website performance and security.\n",
        "3. Describe the role of a web browser's developer tools in web development.\n",
        "   - Browsers like Chrome and Firefox with built-in developer tools.\n",
        "   - Allow inspection of HTML/CSS, debugging of JavaScript.\n",
        "   - Monitor network requests and analyze performance.\n",
        "4. What are the advantages of using a Version Control System like Git in a development project.\n",
        "   - Tracks changes to files over time.\n",
        "   - Enables collaboration among multiple developers.\n",
        "   - Provides features like branching, merging, version history.\n",
        "   - Ensures efficient management of changes.\n",
        "5. Compare and contrast a text editor and an IDE, highlighting their key features and uses.\n",
        "   - Text Editor: Simple tool for writing code (e.g., Notepad++, Sublime Text).\n",
        "   - IDE: Robust environment with features like debugging, version control, project management (e.g., Visual Studio Code, IntelliJ IDEA).\n"
      ],
      "metadata": {
        "id": "A2iIXsn2Gesj"
      }
    }
  ]
}